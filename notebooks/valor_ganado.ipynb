{
 "cells": [
  {
   "cell_type": "markdown",
   "metadata": {},
   "source": [
    "# TABLERO DE VALOR GANADO PARA PROYECTOS EPC"
   ]
  },
  {
   "cell_type": "markdown",
   "metadata": {},
   "source": [
    "A continuación será desarrollado el modelo de datos básico para una estimación precisa del método de valor ganado, con el cuál se logrará un cálculo de las variables de la metodología....."
   ]
  },
  {
   "cell_type": "markdown",
   "metadata": {},
   "source": [
    "En primera instancia, vamos a importar las librerías con las que se procesará la data del proyecto para implementar las visualizaciones posteriores, Pandas, Numpy...."
   ]
  },
  {
   "cell_type": "code",
   "execution_count": 6,
   "metadata": {},
   "outputs": [],
   "source": [
    "import pandas as pd\n",
    "import numpy as np"
   ]
  },
  {
   "cell_type": "markdown",
   "metadata": {},
   "source": [
    "Luego, vamos a cargar en un dataframe los datos del proyecto."
   ]
  },
  {
   "cell_type": "code",
   "execution_count": 9,
   "metadata": {},
   "outputs": [
    {
     "data": {
      "text/html": [
       "<div>\n",
       "<style scoped>\n",
       "    .dataframe tbody tr th:only-of-type {\n",
       "        vertical-align: middle;\n",
       "    }\n",
       "\n",
       "    .dataframe tbody tr th {\n",
       "        vertical-align: top;\n",
       "    }\n",
       "\n",
       "    .dataframe thead th {\n",
       "        text-align: right;\n",
       "    }\n",
       "</style>\n",
       "<table border=\"1\" class=\"dataframe\">\n",
       "  <thead>\n",
       "    <tr style=\"text-align: right;\">\n",
       "      <th></th>\n",
       "      <th>Proveedor</th>\n",
       "      <th>edt</th>\n",
       "    </tr>\n",
       "  </thead>\n",
       "  <tbody>\n",
       "    <tr>\n",
       "      <th>0</th>\n",
       "      <td>-</td>\n",
       "      <td>NaN</td>\n",
       "    </tr>\n",
       "    <tr>\n",
       "      <th>1</th>\n",
       "      <td>00868300153     - COMELETRIC SRL              ...</td>\n",
       "      <td>NaN</td>\n",
       "    </tr>\n",
       "    <tr>\n",
       "      <th>2</th>\n",
       "      <td>1001672903      - Levis Angel Luna Espriella  ...</td>\n",
       "      <td>NaN</td>\n",
       "    </tr>\n",
       "    <tr>\n",
       "      <th>3</th>\n",
       "      <td>1002996408      - Ivan Dario Hernandez Perez  ...</td>\n",
       "      <td>NaN</td>\n",
       "    </tr>\n",
       "    <tr>\n",
       "      <th>4</th>\n",
       "      <td>1007646696      - Laura Valentina Ortiz Sanche...</td>\n",
       "      <td>NaN</td>\n",
       "    </tr>\n",
       "    <tr>\n",
       "      <th>5</th>\n",
       "      <td>1017127468      - Buitrago Gallego Andrea     ...</td>\n",
       "      <td>3616-SP01_03</td>\n",
       "    </tr>\n",
       "    <tr>\n",
       "      <th>6</th>\n",
       "      <td>1017138171      - Hildebrando Hernandez Zapata...</td>\n",
       "      <td>3616-C000_314</td>\n",
       "    </tr>\n",
       "    <tr>\n",
       "      <th>7</th>\n",
       "      <td>1017143438 - Robinson Albert Suarez</td>\n",
       "      <td>NaN</td>\n",
       "    </tr>\n",
       "    <tr>\n",
       "      <th>8</th>\n",
       "      <td>1038416055      - Julian David Zuluaga Ciro   ...</td>\n",
       "      <td>NaN</td>\n",
       "    </tr>\n",
       "    <tr>\n",
       "      <th>9</th>\n",
       "      <td>1039462121      - AGUIRRE MARTINEZ LUIS MIGUEL...</td>\n",
       "      <td>3616-SP01_09.01</td>\n",
       "    </tr>\n",
       "  </tbody>\n",
       "</table>\n",
       "</div>"
      ],
      "text/plain": [
       "                                           Proveedor              edt\n",
       "0                                                 -               NaN\n",
       "1  00868300153     - COMELETRIC SRL              ...              NaN\n",
       "2  1001672903      - Levis Angel Luna Espriella  ...              NaN\n",
       "3  1002996408      - Ivan Dario Hernandez Perez  ...              NaN\n",
       "4  1007646696      - Laura Valentina Ortiz Sanche...              NaN\n",
       "5  1017127468      - Buitrago Gallego Andrea     ...     3616-SP01_03\n",
       "6  1017138171      - Hildebrando Hernandez Zapata...    3616-C000_314\n",
       "7                1017143438 - Robinson Albert Suarez              NaN\n",
       "8  1038416055      - Julian David Zuluaga Ciro   ...              NaN\n",
       "9  1039462121      - AGUIRRE MARTINEZ LUIS MIGUEL...  3616-SP01_09.01"
      ]
     },
     "execution_count": 9,
     "metadata": {},
     "output_type": "execute_result"
    }
   ],
   "source": [
    "df = pd.read_excel('C:/Users/aruizr/OneDrive/9. Valor Ganado/data/processed/df_unique.xlsx')\n",
    "df.head(10)\n"
   ]
  }
 ],
 "metadata": {
  "kernelspec": {
   "display_name": "jupyterenv",
   "language": "python",
   "name": "python3"
  },
  "language_info": {
   "codemirror_mode": {
    "name": "ipython",
    "version": 3
   },
   "file_extension": ".py",
   "mimetype": "text/x-python",
   "name": "python",
   "nbconvert_exporter": "python",
   "pygments_lexer": "ipython3",
   "version": "3.12.0"
  }
 },
 "nbformat": 4,
 "nbformat_minor": 2
}
